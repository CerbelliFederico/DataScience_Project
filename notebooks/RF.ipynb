{
  "cells": [
    {
      "cell_type": "code",
      "execution_count": 2,
      "metadata": {
        "id": "bCkrSuHNq6Qr"
      },
      "outputs": [],
      "source": [
        "## Runned using python 3.12.1\n",
        "\n",
        "## Import Libraries\n",
        "import numpy as np\n",
        "import pandas as pd\n",
        "import matplotlib.pyplot as plt\n",
        "\n",
        "from sklearn.model_selection import train_test_split\n",
        "from sklearn.metrics import mean_squared_error\n",
        "from sklearn.ensemble import RandomForestRegressor\n",
        "from sklearn.model_selection import train_test_split, GridSearchCV\n"
      ]
    },
    {
      "cell_type": "code",
      "execution_count": 3,
      "metadata": {
        "id": "CWRJ1aZ0sLnR"
      },
      "outputs": [],
      "source": [
        "# Import data\n",
        "train_data = pd.read_csv('train_data_features_extracted_filtered.csv', index_col=0)\n",
        "evaluation_data = pd.read_csv('evaluation_data_features_extracted_filtered.csv', index_col=0)"
      ]
    },
    {
      "cell_type": "code",
      "execution_count": 4,
      "metadata": {
        "id": "1fHlUZsocelR"
      },
      "outputs": [],
      "source": [
        "# Random state\n",
        "random_state = 42\n",
        "\n",
        "# Define the RF Regressor\n",
        "# https://scikit-learn.org/1.6/modules/generated/sklearn.ensemble.RandomForestRegressor.html#randomforestregressor\n",
        "rf = RandomForestRegressor(random_state=random_state)\n",
        "\n",
        "param_grid = {\n",
        "    'n_estimators': [1000],                    # number of trees\n",
        "    'max_depth': [15,20,30],                   # maximum depth of trees.\n",
        "    'min_samples_split': [2,5,10],             # minimum number of samples required to split an internal node\n",
        "    'min_samples_leaf': [3,5],                 # minimum number of samples required to be at a leaf node\n",
        "    'max_features': [0.5,0.65],                # fraction of features to consider when looking for the best split\n",
        "    'max_samples': [0.5,0.65],                 # fraction of samples to draw from X to train each base estimator\n",
        "    'criterion': ['poisson','squared_error']   # impurity criterion\n",
        "}"
      ]
    },
    {
      "cell_type": "code",
      "execution_count": null,
      "metadata": {
        "colab": {
          "base_uri": "https://localhost:8080/",
          "height": 356
        },
        "id": "lp6KwDM6ce1E",
        "outputId": "f26618c8-9e12-4e64-a713-f0addd09888d"
      },
      "outputs": [],
      "source": [
        "X = train_data.drop(columns=['age'])\n",
        "y = train_data['age']\n",
        "\n",
        "# Split the data into train and test sets\n",
        "X_train, X_test, y_train, y_test = train_test_split(X, y, test_size=0.2, random_state=random_state)\n",
        "\n",
        "# Since the train_data is not balanced, we assign weights to each sample based on the age group.\n",
        "age_bins = [0,45,101]                                       # define the age bins\n",
        "y_train_bins = pd.cut(y_train, bins=age_bins, right=False)  # right=False: the intervals are left-closed, right-open [0, 10), [10, 20), ..., [90, 100)\n",
        "group_counts = y_train_bins.value_counts()/len(y_train)     # number of samples in each age group (this is a series with the age groups as index)\n",
        "group_weights = 1 - group_counts                            # Weight = 1 - (number of samples in the age group / total number of samples)\n",
        "\n",
        "# map the weight to each sample based on the age group\n",
        "train_sample_weights = y_train_bins.map(group_weights)\n",
        "\n",
        "# Create and fit the GridSearchCV\n",
        "grid_search = GridSearchCV( estimator=rf,\n",
        "                            param_grid=param_grid,\n",
        "                            cv=5, n_jobs=-1,\n",
        "                            scoring='neg_mean_squared_error')\n",
        "\n",
        "grid_search.fit(X_train, y_train, **{'sample_weight': train_sample_weights})\n",
        "\n",
        "# Get the best model and make predictions\n",
        "best_rf = grid_search.best_estimator_\n",
        "y_pred = best_rf.predict(X_test)\n",
        "\n",
        "# Calculate RMSE\n",
        "rmse = np.sqrt(mean_squared_error(y_test, y_pred))\n",
        "\n",
        "print(f\"Best Parameters: {grid_search.best_params_}\")\n",
        "print(f\"RMSE: {rmse}\\n\")\n"
      ]
    },
    {
      "cell_type": "code",
      "execution_count": null,
      "metadata": {
        "colab": {
          "base_uri": "https://localhost:8080/",
          "height": 564
        },
        "id": "3SCEvaHgq6Qy",
        "outputId": "6c019382-5d02-434d-f1ea-4ad4c511299d"
      },
      "outputs": [],
      "source": [
        "# Plot predicted vs true age\n",
        "plt.figure(figsize=(10, 6))\n",
        "plt.scatter(y_test, y_pred, alpha=0.5)\n",
        "plt.plot([0, 100], [0, 100], color='red', linestyle='--')\n",
        "plt.xlabel('True Age', fontsize=22)\n",
        "plt.ylabel('Predicted Age', fontsize=22)\n",
        "plt.xticks(fontsize=18)\n",
        "plt.yticks(fontsize=18)\n",
        "plt.grid(True)\n",
        "plt.savefig('RF.png', dpi=300)\n",
        "plt.show()"
      ]
    },
    {
      "cell_type": "code",
      "execution_count": null,
      "metadata": {
        "id": "LAA77Kzhq6Qy"
      },
      "outputs": [],
      "source": [
        "## Evaluation data\n",
        "\n",
        "y_eval = best_rf.predict(evaluation_data)\n",
        "y_eval = pd.DataFrame(y_eval, columns=['Predicted'])\n",
        "display(y_eval)\n",
        "\n",
        "# Save the predictions to a CSV file\n",
        "y_eval.to_csv('evaluation_predictions.csv', index=True, index_label='Id')"
      ]
    }
  ],
  "metadata": {
    "colab": {
      "provenance": []
    },
    "kernelspec": {
      "display_name": "Python 3",
      "language": "python",
      "name": "python3"
    },
    "language_info": {
      "codemirror_mode": {
        "name": "ipython",
        "version": 3
      },
      "file_extension": ".py",
      "mimetype": "text/x-python",
      "name": "python",
      "nbconvert_exporter": "python",
      "pygments_lexer": "ipython3",
      "version": "3.12.1"
    }
  },
  "nbformat": 4,
  "nbformat_minor": 0
}
