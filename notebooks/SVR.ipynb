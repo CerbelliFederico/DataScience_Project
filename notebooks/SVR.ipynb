{
  "cells": [
    {
      "cell_type": "code",
      "execution_count": 5,
      "metadata": {
        "id": "d8suY5dA9Wcu"
      },
      "outputs": [],
      "source": [
        "## Runned using python 3.12.1\n",
        "\n",
        "## Import libraries\n",
        "import numpy as np\n",
        "import pandas as pd\n",
        "import matplotlib.pyplot as plt\n",
        "\n",
        "from sklearn.model_selection import train_test_split\n",
        "from sklearn.metrics import mean_squared_error\n",
        "from sklearn.model_selection import train_test_split, GridSearchCV\n",
        "from sklearn.pipeline import Pipeline\n",
        "from sklearn.preprocessing import MinMaxScaler\n",
        "from sklearn.svm import SVR\n",
        "\n"
      ]
    },
    {
      "cell_type": "code",
      "execution_count": null,
      "metadata": {
        "id": "SaK6d-269Y05"
      },
      "outputs": [],
      "source": [
        "# Import data\n",
        "train_data = pd.read_csv('train_data_features_extracted_filtered.csv', index_col=0)\n",
        "evaluation_data = pd.read_csv('evaluation_data_features_extracted_filtered.csv', index_col=0)"
      ]
    },
    {
      "cell_type": "code",
      "execution_count": 7,
      "metadata": {
        "id": "llT75Ea1esnH"
      },
      "outputs": [],
      "source": [
        "# Define the Support Vector Regressor\n",
        "svr = SVR()\n",
        "\n",
        "# Create a pipeline with MinMaxScaler\n",
        "pipeline = Pipeline([\n",
        "    ('scaler', MinMaxScaler()),  # MinMax scaling for features\n",
        "    ('svr', svr)                 # Support Vector Regressor\n",
        "])\n",
        "\n",
        "# Define the parameter grid for tuning\n",
        "param_grid = {\n",
        "    'svr__C': [1,5,8,10,20,30],            # Regularization parameter\n",
        "    'svr__epsilon': [4,6,8],               # Epsilon parameter for the SVR\n",
        "    'svr__kernel': ['rbf','poly'],         # Kernel types\n",
        "    'svr__degree' : [2,3,4]\n",
        "}"
      ]
    },
    {
      "cell_type": "code",
      "execution_count": null,
      "metadata": {
        "colab": {
          "base_uri": "https://localhost:8080/"
        },
        "id": "yVplN_tcfUED",
        "outputId": "d7ed47ca-8512-48f8-d154-10bbed42664b"
      },
      "outputs": [],
      "source": [
        "# Random state\n",
        "random_state = 42\n",
        "\n",
        "X = train_data.drop(columns=['age'])\n",
        "y = train_data['age']\n",
        "\n",
        "# Loop through each random state\n",
        "# Split the data into train and test sets using the current random state\n",
        "X_train, X_test, y_train, y_test = train_test_split(X, y, test_size=0.2, random_state=random_state)\n",
        "\n",
        "# Since the train_data is not balanced, we can assign weights to each sample based on the age group.\n",
        "age_bins = [0,20,30,45,101]                                 # define the age bins\n",
        "y_train_bins = pd.cut(y_train, bins=age_bins, right=False)  # right=False: the intervals are left-closed, right-open [0, 10), [10, 20), ..., [90, 100)\n",
        "group_counts = y_train_bins.value_counts() / len(y_train)   # number of samples in each age group (this is a series with the age groups as index)\n",
        "group_weights = 1 - (group_counts/sum(group_counts))        # assign to a weight equal to the inverse of the frequency of his age group (this is a series with the age groups as index)\n",
        "\n",
        "# map the weight to each sample based on the age group\n",
        "train_sample_weights = y_train_bins.map(group_weights)\n",
        "\n",
        "# Create and fit the GridSearchCV\n",
        "grid_search = GridSearchCV(\n",
        "    estimator=pipeline,\n",
        "    param_grid=param_grid,\n",
        "    cv=5,                              # 5-fold cross-validation\n",
        "    scoring='neg_mean_squared_error',  # Metric for evaluation\n",
        "    n_jobs=-1                          # Use all available cores\n",
        ")\n",
        "\n",
        "grid_search.fit(X_train, y_train, svr__sample_weight=train_sample_weights)\n",
        "\n",
        "# Get the best model and make predictions\n",
        "best_model = grid_search.best_estimator_\n",
        "y_pred = best_model.predict(X_test)\n",
        "\n",
        "# Calculate RMSE\n",
        "rmse = np.sqrt(mean_squared_error(y_test, y_pred))\n",
        "print(f\"Best Parameters: {grid_search.best_params_}\")\n",
        "print(f\"RMSE: {rmse}\\n\")\n"
      ]
    },
    {
      "cell_type": "code",
      "execution_count": null,
      "metadata": {
        "colab": {
          "base_uri": "https://localhost:8080/",
          "height": 564
        },
        "id": "B1FhhoyPiyNZ",
        "outputId": "87c9be02-d4b2-49aa-bde2-560d4d4696cf"
      },
      "outputs": [],
      "source": [
        "# Plot predicted vs true age\n",
        "plt.figure(figsize=(10, 6))\n",
        "plt.scatter(y_test, y_pred, alpha=0.5)\n",
        "plt.plot([0, 100], [0, 100], color='red', linestyle='--')\n",
        "plt.xlabel('True Age', fontsize=22)\n",
        "plt.ylabel('Predicted Age', fontsize=22)\n",
        "plt.xticks(fontsize=18)\n",
        "plt.yticks(fontsize=18)\n",
        "plt.grid(True)\n",
        "plt.savefig('SVR.png', dpi=300) \n",
        "plt.show()"
      ]
    },
    {
      "cell_type": "code",
      "execution_count": null,
      "metadata": {
        "id": "9sQV4r9dihei"
      },
      "outputs": [],
      "source": [
        "## Evaluation data\n",
        "\n",
        "y_eval = best_model.predict(evaluation_data)\n",
        "y_eval = pd.DataFrame(y_eval, columns=['Predicted'])\n",
        "display(y_eval)\n",
        "\n",
        "# Save the predictions to a CSV file\n",
        "y_eval.to_csv('evaluation_predictions.csv', index=True, index_label='Id')"
      ]
    }
  ],
  "metadata": {
    "colab": {
      "provenance": []
    },
    "kernelspec": {
      "display_name": "Python 3",
      "name": "python3"
    },
    "language_info": {
      "codemirror_mode": {
        "name": "ipython",
        "version": 3
      },
      "file_extension": ".py",
      "mimetype": "text/x-python",
      "name": "python",
      "nbconvert_exporter": "python",
      "pygments_lexer": "ipython3",
      "version": "3.12.1"
    }
  },
  "nbformat": 4,
  "nbformat_minor": 0
}
