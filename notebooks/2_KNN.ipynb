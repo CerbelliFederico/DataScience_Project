{
  "cells": [
    {
      "cell_type": "code",
      "execution_count": 1,
      "metadata": {
        "id": "cUZMOduNg1NJ"
      },
      "outputs": [],
      "source": [
        "## Runned using python 3.12.1\n",
        "\n",
        "## Import libraries\n",
        "import numpy as np\n",
        "import pandas as pd\n",
        "import matplotlib.pyplot as plt\n",
        "\n",
        "from sklearn.model_selection import train_test_split\n",
        "from sklearn.metrics import mean_squared_error\n",
        "from sklearn.model_selection import train_test_split, GridSearchCV\n",
        "from sklearn.neighbors import KNeighborsRegressor\n",
        "from sklearn.pipeline import Pipeline\n",
        "from sklearn.preprocessing import StandardScaler\n",
        "from sklearn.decomposition import PCA\n",
        "import os"
      ]
    },
    {
      "cell_type": "code",
      "execution_count": 2,
      "metadata": {
        "id": "hL9ZRVqXg1KP"
      },
      "outputs": [],
      "source": [
        "DATA_DIR = \"../datasets\"\n",
        "\n",
        "# Load CSV\n",
        "train_data = pd.read_csv(os.path.join(DATA_DIR, \"train_data_features_extracted_filtered.csv\"), index_col=0)\n",
        "evaluation_data = pd.read_csv(os.path.join(DATA_DIR, \"evaluation_data_features_extracted_filtered.csv\"), index_col=0)"
      ]
    },
    {
      "cell_type": "code",
      "execution_count": 5,
      "metadata": {
        "id": "R9XamulEkxzM"
      },
      "outputs": [],
      "source": [
        "# Define the KNN Regressor\n",
        "# https://scikit-learn.org/1.6/modules/generated/sklearn.neighbors.KNeighborsClassifier.html#kneighborsclassifier\n",
        "knn_regressor = KNeighborsRegressor()\n",
        "\n",
        "# Create a pipeline to include the StandardScaler, PCA, and KNN Regressor\n",
        "pipeline = Pipeline([\n",
        "    ('scaler', StandardScaler()),      # Standardize the features\n",
        "    ('pca', PCA()),\n",
        "    ('knn', knn_regressor)             # KNN regressor\n",
        "])\n",
        "\n",
        "# Define the parameter grid for tuning\n",
        "param_grid = {\n",
        "    'knn__n_neighbors': [10, 15, 20, 25, 30, 35],       # Test a wider range of neighbors\n",
        "    'knn__weights': ['uniform', 'distance'],\n",
        "    'knn__p': [1, 2],                                   # Manhattan and Euclidean\n",
        "    'pca__n_components': [0.5, 0.65, 0.75, 0.85, None]  # Try different PCA variance thresholds\n",
        "}"
      ]
    },
    {
      "cell_type": "code",
      "execution_count": null,
      "metadata": {
        "colab": {
          "base_uri": "https://localhost:8080/"
        },
        "id": "VaQN7tT7k_9H",
        "outputId": "3702085c-3941-4aa8-c5e4-29b599c951bc"
      },
      "outputs": [],
      "source": [
        "# Random state\n",
        "random_state = 42\n",
        "\n",
        "X = train_data.drop(columns=['age'])\n",
        "y = train_data['age']\n",
        "\n",
        "\n",
        "# Split the data into train and test sets using the current random state\n",
        "X_train, X_test, y_train, y_test = train_test_split(X, y, test_size=0.2, random_state=random_state)\n",
        "\n",
        "# Create and fit the GridSearchCV\n",
        "grid_search = GridSearchCV(\n",
        "    estimator=pipeline,\n",
        "    param_grid=param_grid,\n",
        "    cv=5,                              # 5-fold cross-validation\n",
        "    scoring='neg_mean_squared_error',  # Metric for evaluation\n",
        "    verbose=1,\n",
        "    n_jobs=-1                          # Use all available cores\n",
        ")\n",
        "\n",
        "grid_search.fit(X_train, y_train)\n",
        "\n",
        "# Get the best model and make predictions\n",
        "best_model = grid_search.best_estimator_\n",
        "y_pred = best_model.predict(X_test)\n",
        "\n",
        "# Calculate RMSE\n",
        "rmse = np.sqrt(mean_squared_error(y_test, y_pred))\n",
        "\n",
        "print(f\"Best Parameters: {grid_search.best_params_}\")\n",
        "print(f\"RMSE: {rmse}\\n\")"
      ]
    },
    {
      "cell_type": "code",
      "execution_count": null,
      "metadata": {
        "colab": {
          "base_uri": "https://localhost:8080/",
          "height": 564
        },
        "id": "BB1uxtUbsNwp",
        "outputId": "deed202b-dcab-46fe-fed2-6e0a86dcc681"
      },
      "outputs": [],
      "source": [
        "# Plot predicted vs true age\n",
        "plt.figure(figsize=(10, 6))\n",
        "plt.scatter(y_test, y_pred, alpha=0.5)\n",
        "plt.plot([0, 100], [0, 100], color='red', linestyle='--')\n",
        "plt.xlabel('True Age')\n",
        "plt.ylabel('Predicted Age')\n",
        "plt.title('Predicted vs True Age')\n",
        "plt.show()"
      ]
    },
    {
      "cell_type": "code",
      "execution_count": null,
      "metadata": {},
      "outputs": [],
      "source": [
        "## Evaluation data\n",
        "\n",
        "y_eval = best_model.predict(evaluation_data)\n",
        "y_eval = pd.DataFrame(y_eval, columns=['Predicted'])\n",
        "display(y_eval)\n",
        "\n",
        "# Save the predictions to a CSV file\n",
        "y_eval.to_csv('evaluation_predictions.csv', index=True, index_label='Id')"
      ]
    }
  ],
  "metadata": {
    "colab": {
      "provenance": []
    },
    "kernelspec": {
      "display_name": "Python 3",
      "name": "python3"
    },
    "language_info": {
      "codemirror_mode": {
        "name": "ipython",
        "version": 3
      },
      "file_extension": ".py",
      "mimetype": "text/x-python",
      "name": "python",
      "nbconvert_exporter": "python",
      "pygments_lexer": "ipython3",
      "version": "3.13.0"
    }
  },
  "nbformat": 4,
  "nbformat_minor": 0
}
